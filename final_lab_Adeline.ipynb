{
  "nbformat": 4,
  "nbformat_minor": 0,
  "metadata": {
    "colab": {
      "provenance": [],
      "authorship_tag": "ABX9TyNaEIUUoIDRY6+zByu+LI9U",
      "include_colab_link": true
    },
    "kernelspec": {
      "name": "python3",
      "display_name": "Python 3"
    },
    "language_info": {
      "name": "python"
    }
  },
  "cells": [
    {
      "cell_type": "markdown",
      "metadata": {
        "id": "view-in-github",
        "colab_type": "text"
      },
      "source": [
        "<a href=\"https://colab.research.google.com/github/adelinefang1101/Chinese-Cities-Sustainability/blob/main/final_lab_Adeline.ipynb\" target=\"_parent\"><img src=\"https://colab.research.google.com/assets/colab-badge.svg\" alt=\"Open In Colab\"/></a>"
      ]
    },
    {
      "cell_type": "markdown",
      "source": [
        "Adeline Fang\n",
        "\n",
        "ENVECON 105\n",
        "\n",
        "Professor Hammer\n",
        "\n",
        "Final Project\n"
      ],
      "metadata": {
        "id": "vAlK0houx4od"
      }
    },
    {
      "cell_type": "markdown",
      "source": [
        "## **Introduction**\n",
        "\n",
        "This project aims to analyze and compare the environmental impact of oil and gas refineries in Shenyang and Tieling, two cities in Liaoning Province, China. Using data retrieved from an API, the focus is on exploring CO2 emissions, emissions per barrel, and the efficiency of these refineries in terms of greenhouse gas outputs.\n",
        "\n",
        "Shenyang, the capital of Liaoning Province, and Tieling, the sixth largest city, differ in scale but are geographically close. Having lived in both cities, I bring a personal perspective to this analysis, exploring the differences in emissions between these two regions.\n",
        "\n",
        "The analysis begins by extracting and cleaning emissions data for the Shenyang PARAFFIN-WAX Chemical Refinery and the Tieling Refinery. By calculating emissions per barrel and aggregating total emissions, the project highlights key trends and differences in the environmental performance of these facilities. Data visualization techniques, including line and bar charts, are used to illustrate emissions trends over time, providing a clear comparative perspective."
      ],
      "metadata": {
        "id": "ftojOFYvlOWd"
      }
    },
    {
      "cell_type": "markdown",
      "source": [
        "### **Question 1**\n",
        "Fetch and compare emissions data for oil and gas refineries in Shenyang and Tieling. Provide an example of code that retrieves this data from a given API, extracts relevant emissions information, and displays the initial records for both cities."
      ],
      "metadata": {
        "id": "WFui8oV-FaUw"
      }
    },
    {
      "cell_type": "code",
      "source": [
        "import pandas as pd\n",
        "import requests\n",
        "\n",
        "def fetch_and_extract_emissions(url):\n",
        "    \"\"\"Fetches and extracts emissions data from a given URL into a DataFrame.\"\"\"\n",
        "    response = requests.get(url).json()\n",
        "    basic_info = {key: response[key] for key in ['Id', 'Name', 'NativeId', 'Country', 'Sector', 'AssetType', 'ReportingEntity']}\n",
        "\n",
        "    emissions_data = [\n",
        "        {**basic_info, **emission, 'Year': year}\n",
        "        for year_data in response['Emissions']\n",
        "        for year, emissions_list in year_data.items()\n",
        "        for emission in emissions_list\n",
        "    ] if response['Sector'].lower() == 'oil-and-gas-refining' else []\n",
        "\n",
        "    return pd.DataFrame(emissions_data)\n",
        "\n",
        "shenyang_url = \"https://api.c10e.org/v4/assets/3144251\"\n",
        "tieling_url = \"https://api.c10e.org/v4/assets/3144252\"\n",
        "\n",
        "df_emissions_shenyang = fetch_and_extract_emissions(shenyang_url)\n",
        "df_emissions_tieling = fetch_and_extract_emissions(tieling_url)\n",
        "\n",
        "print(\"Shenyang Emissions Data:\\n\", df_emissions_shenyang.head(), \"\\n\")\n",
        "print(\"Tieling Emissions Data:\\n\", df_emissions_tieling.head())\n"
      ],
      "metadata": {
        "id": "CSrP6J9CFrOG",
        "colab": {
          "base_uri": "https://localhost:8080/"
        },
        "outputId": "af9b18f7-866e-4b7e-d880-0a18f9eddd13"
      },
      "execution_count": null,
      "outputs": [
        {
          "output_type": "stream",
          "name": "stdout",
          "text": [
            "Shenyang Emissions Data:\n",
            "         Id                                     Name NativeId Country  \\\n",
            "0  3144251  Shenyang PARAFFIN-WAX Chemical Refinery      759     CHN   \n",
            "1  3144251  Shenyang PARAFFIN-WAX Chemical Refinery      759     CHN   \n",
            "2  3144251  Shenyang PARAFFIN-WAX Chemical Refinery      759     CHN   \n",
            "3  3144251  Shenyang PARAFFIN-WAX Chemical Refinery      759     CHN   \n",
            "4  3144251  Shenyang PARAFFIN-WAX Chemical Refinery      759     CHN   \n",
            "\n",
            "                 Sector          AssetType ReportingEntity  Activity  \\\n",
            "0  oil-and-gas-refining  Medium Conversion   climate-trace   16884.0   \n",
            "1  oil-and-gas-refining  Medium Conversion   climate-trace   16884.0   \n",
            "2  oil-and-gas-refining  Medium Conversion   climate-trace   16884.0   \n",
            "3  oil-and-gas-refining  Medium Conversion   climate-trace   16884.0   \n",
            "4  oil-and-gas-refining  Medium Conversion   climate-trace   16884.0   \n",
            "\n",
            "     ActivityUnits  Capacity  CapacityFactor    CapacityUnits  \\\n",
            "0  barrels per day     24120             0.7  barrels per day   \n",
            "1  barrels per day     24120             0.7  barrels per day   \n",
            "2  barrels per day     24120             0.7  barrels per day   \n",
            "3  barrels per day     24120             0.7  barrels per day   \n",
            "4  barrels per day     24120             0.7  barrels per day   \n",
            "\n",
            "   EmissionsFactor         EmissionsFactorUnits       n2o  Year          co2  \\\n",
            "0         0.000297  T of N2O per barrel refined  1.831147  2021          NaN   \n",
            "1        30.552859  T of CO2 per barrel refined       NaN  2021  188286.8827   \n",
            "2         0.001518  T of CH4 per barrel refined       NaN  2021          NaN   \n",
            "3         0.000297                         None       NaN  2021          NaN   \n",
            "4         0.000297                         None       NaN  2021          NaN   \n",
            "\n",
            "        ch4    co2e_20yr   co2e_100yr  \n",
            "0       NaN          NaN          NaN  \n",
            "1       NaN          NaN          NaN  \n",
            "2  9.353616          NaN          NaN  \n",
            "3       NaN  190366.4565          NaN  \n",
            "4       NaN          NaN  190364.7259   \n",
            "\n",
            "Tieling Emissions Data:\n",
            "         Id                                 Name NativeId Country  \\\n",
            "0  3144252  Zhonghai Bitumen (Yingkou) Refinery      760     CHN   \n",
            "1  3144252  Zhonghai Bitumen (Yingkou) Refinery      760     CHN   \n",
            "2  3144252  Zhonghai Bitumen (Yingkou) Refinery      760     CHN   \n",
            "3  3144252  Zhonghai Bitumen (Yingkou) Refinery      760     CHN   \n",
            "4  3144252  Zhonghai Bitumen (Yingkou) Refinery      760     CHN   \n",
            "\n",
            "                 Sector        AssetType ReportingEntity  Activity  \\\n",
            "0  oil-and-gas-refining  Deep Conversion   climate-trace     14070   \n",
            "1  oil-and-gas-refining  Deep Conversion   climate-trace     14070   \n",
            "2  oil-and-gas-refining  Deep Conversion   climate-trace     14070   \n",
            "3  oil-and-gas-refining  Deep Conversion   climate-trace     14070   \n",
            "4  oil-and-gas-refining  Deep Conversion   climate-trace     14070   \n",
            "\n",
            "     ActivityUnits  Capacity  CapacityFactor    CapacityUnits  \\\n",
            "0  barrels per day     20100             0.7  barrels per day   \n",
            "1  barrels per day     20100             0.7  barrels per day   \n",
            "2  barrels per day     20100             0.7  barrels per day   \n",
            "3  barrels per day     20100             0.7  barrels per day   \n",
            "4  barrels per day     20100             0.7  barrels per day   \n",
            "\n",
            "   EmissionsFactor         EmissionsFactorUnits       n2o  Year          co2  \\\n",
            "0         0.000348  T of N2O per barrel refined  1.787455  2021          NaN   \n",
            "1        40.220489  T of CO2 per barrel refined       NaN  2021  206554.3334   \n",
            "2         0.001815  T of CH4 per barrel refined       NaN  2021          NaN   \n",
            "3         0.000348                         None       NaN  2021          NaN   \n",
            "4         0.000348                         None       NaN  2021          NaN   \n",
            "\n",
            "        ch4    co2e_20yr   co2e_100yr  \n",
            "0       NaN          NaN          NaN  \n",
            "1       NaN          NaN          NaN  \n",
            "2  9.319367          NaN          NaN  \n",
            "3       NaN  208626.8491          NaN  \n",
            "4       NaN          NaN  208607.0604  \n"
          ]
        }
      ]
    },
    {
      "cell_type": "markdown",
      "source": [
        "### **Question 2**\n",
        "How have emissions from oil and gas refining in Shenyang and Tieling changed over the year 2021-2022? Create a comparative analysis by plotting the emissions data for these gases over time and discuss any observed trends or differences between the two cities."
      ],
      "metadata": {
        "id": "uHqtp9PcFtVq"
      }
    },
    {
      "cell_type": "code",
      "source": [
        "import pandas as pd\n",
        "import matplotlib.pyplot as plt\n",
        "\n",
        "years = pd.Series(pd.date_range(end=pd.Timestamp.now(), periods=6, freq='Y').year.astype(str))\n",
        "df_emissions_shenyang = df_emissions_shenyang[df_emissions_shenyang['Year'].isin(years)]\n",
        "df_emissions_tieling = df_emissions_tieling[df_emissions_tieling['Year'].isin(years)]\n",
        "\n",
        "agg_shenyang = df_emissions_shenyang.groupby('Year').sum()\n",
        "agg_tieling = df_emissions_tieling.groupby('Year').sum()\n",
        "\n",
        "y_min, y_max = min(agg_shenyang[['co2', 'ch4', 'n2o']].min().min(), agg_tieling[['co2', 'ch4', 'n2o']].min().min()), \\\n",
        "               max(agg_shenyang[['co2', 'ch4', 'n2o']].max().max(), agg_tieling[['co2', 'ch4', 'n2o']].max().max())\n",
        "\n",
        "fig, ax = plt.subplots(2, 1, figsize=(10, 10))\n",
        "for i, (city, data) in enumerate(zip(['Shenyang', 'Tieling'], [agg_shenyang, agg_tieling])):\n",
        "    ax[i].plot(data.index, data['co2'], '--o', label='CO2', color='blue')\n",
        "    ax[i].plot(data.index, data['ch4'], '-.s', label='CH4', color='green')\n",
        "    ax[i].plot(data.index, data['n2o'], ':d', label='N2O', color='red')\n",
        "    ax[i].set(title=f'Emissions Over Time in {city}', xlabel='Year', ylabel='Emissions', ylim=(y_min, y_max))\n",
        "    ax[i].legend()\n",
        "\n",
        "plt.tight_layout()\n",
        "plt.show()"
      ],
      "metadata": {
        "id": "EJ61jmFOFx_l",
        "colab": {
          "base_uri": "https://localhost:8080/",
          "height": 1000
        },
        "outputId": "e0eec307-9f15-4cd1-f8a7-fd464a865bd3"
      },
      "execution_count": null,
      "outputs": [
        {
          "output_type": "display_data",
          "data": {
            "text/plain": [
              "<Figure size 1000x1000 with 2 Axes>"
            ],
            "image/png": "[encoded data removed]"
          },
          "metadata": {}
        }
      ]
    },
    {
      "cell_type": "markdown",
      "source": [
        "Analysis of the graphs:\n",
        "\n",
        "Both graphs demonstrate a reduction in emissions over time for CO2, consatant, or imperceptible change in CH4, and N2O in Shenyang and Tieling. CO2 emissions dominate the overall emission profile for both cities, with Tieling showing slightly higher emissions than Shenyang. The reductions indicate efforts towards minimizing the environmental impact in these regions, possibly due to changes in refinery processes or efficiency improvements."
      ],
      "metadata": {
        "id": "LXEcAsCud_tu"
      }
    },
    {
      "cell_type": "markdown",
      "source": [
        "### **Question 3**\n",
        "What are the correlation coefficients between capacity utilization (CapacityFactor) and the emissions of CO2, CH4, and N2O in the Shenyang and Tieling refineries? How do these correlations differ between the two cities, and what might this indicate about the relationship between refinery activity and greenhouse gas emissions?"
      ],
      "metadata": {
        "id": "PTCjbUTEqIyl"
      }
    },
    {
      "cell_type": "code",
      "source": [
        "import pandas as pd\n",
        "\n",
        "def calculate_correlations(df, city_name):\n",
        "    print(f\"Correlation coefficients for {city_name}:\")\n",
        "    print(df[['CapacityFactor', 'co2', 'ch4', 'n2o']].corr())\n",
        "\n",
        "for city, df in zip(['Shenyang', 'Tieling'], [df_emissions_shenyang, df_emissions_tieling]):\n",
        "    calculate_correlations(df, city)"
      ],
      "metadata": {
        "id": "GCU6ldbGqOBf",
        "colab": {
          "base_uri": "https://localhost:8080/"
        },
        "outputId": "844d2913-c592-4d29-c180-81dac99f0813"
      },
      "execution_count": null,
      "outputs": [
        {
          "output_type": "stream",
          "name": "stdout",
          "text": [
            "Correlation coefficients for Shenyang:\n",
            "                CapacityFactor  co2  ch4  n2o\n",
            "CapacityFactor             1.0  1.0  1.0  1.0\n",
            "co2                        1.0  1.0  NaN  NaN\n",
            "ch4                        1.0  NaN  1.0  NaN\n",
            "n2o                        1.0  NaN  NaN  1.0\n",
            "Correlation coefficients for Tieling:\n",
            "                CapacityFactor  co2  ch4  n2o\n",
            "CapacityFactor             1.0  1.0  1.0  1.0\n",
            "co2                        1.0  1.0  NaN  NaN\n",
            "ch4                        1.0  NaN  1.0  NaN\n",
            "n2o                        1.0  NaN  NaN  1.0\n"
          ]
        }
      ]
    },
    {
      "cell_type": "markdown",
      "source": [
        "The perfect correlation (1.0) between CapacityFactor and each emission type (CO2, CH4, N2O) suggests that as capacity utilization changes, emissions also change proportionally in the same direction.\n",
        "In this context, it suggests that if the refinery's capacity utilization increases, emissions (CO2, CH4, N2O) also increase, and vice versa.\n",
        "\n",
        "NaN values in the correlation matrix, particularly for CH4 and N2O, indicate that there isn't enough variability in the data for these variables, or there is missing data. This makes it difficult to establish a relationship between these gases and the other variables."
      ],
      "metadata": {
        "id": "r30DUW4Q1Aww"
      }
    },
    {
      "cell_type": "markdown",
      "source": [
        "### **Question 4**\n",
        "How does the linear regression model built using \"Activity\" and \"CapacityFactor\" as predictors perform in predicting CO2 emissions in the Shenyang and Tieling refineries? What is the predicted CO2 emission for a future scenario with an activity level of 15,000 and a capacity factor of 0.75 in each city?"
      ],
      "metadata": {
        "id": "exCtcXDvqS5_"
      }
    },
    {
      "cell_type": "code",
      "source": [
        "import pandas as pd\n",
        "from sklearn.linear_model import LinearRegression\n",
        "from sklearn.metrics import mean_squared_error, r2_score\n",
        "\n",
        "def build_and_evaluate_model(df, city_name):\n",
        "    df = df.dropna(subset=['Activity', 'CapacityFactor', 'co2'])\n",
        "    X, y = df[['Activity', 'CapacityFactor']], df['co2']\n",
        "\n",
        "    model = LinearRegression().fit(X, y)\n",
        "    y_pred = model.predict(X)\n",
        "\n",
        "    mse, r2 = mean_squared_error(y, y_pred), r2_score(y, y_pred)\n",
        "    print(f\"{city_name} - MSE: {mse}, R-squared: {r2}\")\n",
        "    print(f\"Coefficients: {model.coef_}, Intercept: {model.intercept_}\")\n",
        "\n",
        "    future_activity = pd.DataFrame([[15000, 0.75]], columns=['Activity', 'CapacityFactor'])\n",
        "    future_emissions = model.predict(future_activity)\n",
        "    print(f\"Predicted CO2 for {city_name}: {future_emissions[0]}\")\n",
        "\n",
        "for city, df in zip(['Shenyang', 'Tieling'], [df_emissions_shenyang, df_emissions_tieling]):\n",
        "    build_and_evaluate_model(df, city)"
      ],
      "metadata": {
        "colab": {
          "base_uri": "https://localhost:8080/"
        },
        "id": "FNHtFxxneHCZ",
        "outputId": "4862d5e8-34ba-467a-9724-a5ab798d8c4e"
      },
      "execution_count": null,
      "outputs": [
        {
          "output_type": "stream",
          "name": "stdout",
          "text": [
            "Shenyang - MSE: 4.235164736271502e-22, R-squared: 1.0\n",
            "Coefficients: [1.11517936e+01 4.62346333e-04], Intercept: -7.777786231599748e-05\n",
            "Predicted CO2 for Shenyang: 167276.90365751725\n",
            "Tieling - MSE: 8.470329472543003e-22, R-squared: 1.0\n",
            "Coefficients: [1.46804786e+01 7.30372068e-04], Intercept: -0.0005999999993946403\n",
            "Predicted CO2 for Tieling: 220207.17850720286\n"
          ]
        }
      ]
    },
    {
      "cell_type": "markdown",
      "source": [
        "### **Question 5**\n",
        "\n",
        "How can we assess the quality of emissions data for Shenyang and Tieling refineries by identifying and quantifying missing values in the dataset?"
      ],
      "metadata": {
        "id": "WaZ2DQpXfDPf"
      }
    },
    {
      "cell_type": "code",
      "source": [
        "import pandas as pd\n",
        "\n",
        "def display_missing_values(df, city_name):\n",
        "    missing_values = df.isnull().sum()\n",
        "    print(f\"Missing values in {city_name} Data:\")\n",
        "    print(missing_values)\n",
        "    return missing_values\n",
        "\n",
        "missing_values_shenyang = display_missing_values(df_emissions_shenyang, 'Shenyang')\n",
        "missing_values_tieling = display_missing_values(df_emissions_tieling, 'Tieling')"
      ],
      "metadata": {
        "colab": {
          "base_uri": "https://localhost:8080/"
        },
        "id": "zkY30U7o7NYL",
        "outputId": "df1640c9-2526-40f1-dc95-9661b6e45702"
      },
      "execution_count": null,
      "outputs": [
        {
          "output_type": "stream",
          "name": "stdout",
          "text": [
            "Missing values in Shenyang Data:\n",
            "Id                      0\n",
            "Name                    0\n",
            "NativeId                0\n",
            "Country                 0\n",
            "Sector                  0\n",
            "AssetType               0\n",
            "ReportingEntity         0\n",
            "Activity                0\n",
            "ActivityUnits           0\n",
            "Capacity                0\n",
            "CapacityFactor          0\n",
            "CapacityUnits           0\n",
            "EmissionsFactor         0\n",
            "EmissionsFactorUnits    4\n",
            "n2o                     8\n",
            "Year                    0\n",
            "co2                     8\n",
            "ch4                     8\n",
            "co2e_20yr               8\n",
            "co2e_100yr              8\n",
            "dtype: int64\n",
            "Missing values in Tieling Data:\n",
            "Id                      0\n",
            "Name                    0\n",
            "NativeId                0\n",
            "Country                 0\n",
            "Sector                  0\n",
            "AssetType               0\n",
            "ReportingEntity         0\n",
            "Activity                0\n",
            "ActivityUnits           0\n",
            "Capacity                0\n",
            "CapacityFactor          0\n",
            "CapacityUnits           0\n",
            "EmissionsFactor         0\n",
            "EmissionsFactorUnits    4\n",
            "n2o                     8\n",
            "Year                    0\n",
            "co2                     8\n",
            "ch4                     8\n",
            "co2e_20yr               8\n",
            "co2e_100yr              8\n",
            "dtype: int64\n"
          ]
        }
      ]
    },
    {
      "cell_type": "markdown",
      "source": [
        "Below is strategy that handles missing values by filling in numeric columns with their respective mean values and replacing missing values in non-numeric columns with \"Unknown.\""
      ],
      "metadata": {
        "id": "mKQZvFEnfZvb"
      }
    },
    {
      "cell_type": "code",
      "source": [
        "def handle_missing_values(df):\n",
        "    numeric_cols = df.select_dtypes(include='number').columns\n",
        "    df[numeric_cols] = df[numeric_cols].fillna(df[numeric_cols].mean())\n",
        "    df.fillna(\"Unknown\", inplace=True)\n",
        "    return df\n",
        "\n",
        "df_emissions_shenyang_cleaned = handle_missing_values(df_emissions_shenyang)\n",
        "df_emissions_tieling_cleaned = handle_missing_values(df_emissions_tieling)\n",
        "\n",
        "print(\"\\nShenyang Data After Handling Missing Values:\\n\", df_emissions_shenyang_cleaned)\n",
        "print(\"\\nTieling Data After Handling Missing Values:\\n\", df_emissions_tieling_cleaned)"
      ],
      "metadata": {
        "colab": {
          "base_uri": "https://localhost:8080/"
        },
        "id": "LnXbdgJhfbsY",
        "outputId": "62a554fb-74ea-46aa-e0f2-ec461c01f798"
      },
      "execution_count": null,
      "outputs": [
        {
          "output_type": "stream",
          "name": "stdout",
          "text": [
            "\n",
            "Shenyang Data After Handling Missing Values:\n",
            "         Id                                     Name NativeId Country  \\\n",
            "0  3144251  Shenyang PARAFFIN-WAX Chemical Refinery      759     CHN   \n",
            "1  3144251  Shenyang PARAFFIN-WAX Chemical Refinery      759     CHN   \n",
            "2  3144251  Shenyang PARAFFIN-WAX Chemical Refinery      759     CHN   \n",
            "3  3144251  Shenyang PARAFFIN-WAX Chemical Refinery      759     CHN   \n",
            "4  3144251  Shenyang PARAFFIN-WAX Chemical Refinery      759     CHN   \n",
            "5  3144251  Shenyang PARAFFIN-WAX Chemical Refinery      759     CHN   \n",
            "6  3144251  Shenyang PARAFFIN-WAX Chemical Refinery      759     CHN   \n",
            "7  3144251  Shenyang PARAFFIN-WAX Chemical Refinery      759     CHN   \n",
            "8  3144251  Shenyang PARAFFIN-WAX Chemical Refinery      759     CHN   \n",
            "9  3144251  Shenyang PARAFFIN-WAX Chemical Refinery      759     CHN   \n",
            "\n",
            "                 Sector          AssetType ReportingEntity  Activity  \\\n",
            "0  oil-and-gas-refining  Medium Conversion   climate-trace   16884.0   \n",
            "1  oil-and-gas-refining  Medium Conversion   climate-trace   16884.0   \n",
            "2  oil-and-gas-refining  Medium Conversion   climate-trace   16884.0   \n",
            "3  oil-and-gas-refining  Medium Conversion   climate-trace   16884.0   \n",
            "4  oil-and-gas-refining  Medium Conversion   climate-trace   16884.0   \n",
            "5  oil-and-gas-refining  Medium Conversion   climate-trace   14713.2   \n",
            "6  oil-and-gas-refining  Medium Conversion   climate-trace   14713.2   \n",
            "7  oil-and-gas-refining  Medium Conversion   climate-trace   14713.2   \n",
            "8  oil-and-gas-refining  Medium Conversion   climate-trace   14713.2   \n",
            "9  oil-and-gas-refining  Medium Conversion   climate-trace   14713.2   \n",
            "\n",
            "     ActivityUnits  Capacity  CapacityFactor    CapacityUnits  \\\n",
            "0  barrels per day     24120            0.70  barrels per day   \n",
            "1  barrels per day     24120            0.70  barrels per day   \n",
            "2  barrels per day     24120            0.70  barrels per day   \n",
            "3  barrels per day     24120            0.70  barrels per day   \n",
            "4  barrels per day     24120            0.70  barrels per day   \n",
            "5  barrels per day     24120            0.61  barrels per day   \n",
            "6  barrels per day     24120            0.61  barrels per day   \n",
            "7  barrels per day     24120            0.61  barrels per day   \n",
            "8  barrels per day     24120            0.61  barrels per day   \n",
            "9  barrels per day     24120            0.61  barrels per day   \n",
            "\n",
            "   EmissionsFactor         EmissionsFactorUnits       n2o  Year           co2  \\\n",
            "0         0.000297  T of N2O per barrel refined  1.831147  2021  176182.72595   \n",
            "1        30.552859  T of CO2 per barrel refined  1.713431  2021  188286.88270   \n",
            "2         0.001518  T of CH4 per barrel refined  1.713431  2021  176182.72595   \n",
            "3         0.000297                      Unknown  1.713431  2021  176182.72595   \n",
            "4         0.000297                      Unknown  1.713431  2021  176182.72595   \n",
            "5         0.000297  T of N2O per barrel refined  1.595714  2022  176182.72595   \n",
            "6        30.552859  T of CO2 per barrel refined  1.713431  2022  164078.56920   \n",
            "7         0.001518  T of CH4 per barrel refined  1.713431  2022  176182.72595   \n",
            "8         0.000297                      Unknown  1.713431  2022  176182.72595   \n",
            "9         0.000297                      Unknown  1.713431  2022  176182.72595   \n",
            "\n",
            "        ch4    co2e_20yr    co2e_100yr  \n",
            "0  8.752312  178128.6129  178126.99355  \n",
            "1  8.752312  178128.6129  178126.99355  \n",
            "2  9.353616  178128.6129  178126.99355  \n",
            "3  8.752312  190366.4565  178126.99355  \n",
            "4  8.752312  178128.6129  190364.72590  \n",
            "5  8.752312  178128.6129  178126.99355  \n",
            "6  8.752312  178128.6129  178126.99355  \n",
            "7  8.151008  178128.6129  178126.99355  \n",
            "8  8.752312  165890.7693  178126.99355  \n",
            "9  8.752312  178128.6129  165889.26120  \n",
            "\n",
            "Tieling Data After Handling Missing Values:\n",
            "         Id                                 Name NativeId Country  \\\n",
            "0  3144252  Zhonghai Bitumen (Yingkou) Refinery      760     CHN   \n",
            "1  3144252  Zhonghai Bitumen (Yingkou) Refinery      760     CHN   \n",
            "2  3144252  Zhonghai Bitumen (Yingkou) Refinery      760     CHN   \n",
            "3  3144252  Zhonghai Bitumen (Yingkou) Refinery      760     CHN   \n",
            "4  3144252  Zhonghai Bitumen (Yingkou) Refinery      760     CHN   \n",
            "5  3144252  Zhonghai Bitumen (Yingkou) Refinery      760     CHN   \n",
            "6  3144252  Zhonghai Bitumen (Yingkou) Refinery      760     CHN   \n",
            "7  3144252  Zhonghai Bitumen (Yingkou) Refinery      760     CHN   \n",
            "8  3144252  Zhonghai Bitumen (Yingkou) Refinery      760     CHN   \n",
            "9  3144252  Zhonghai Bitumen (Yingkou) Refinery      760     CHN   \n",
            "\n",
            "                 Sector        AssetType ReportingEntity  Activity  \\\n",
            "0  oil-and-gas-refining  Deep Conversion   climate-trace     14070   \n",
            "1  oil-and-gas-refining  Deep Conversion   climate-trace     14070   \n",
            "2  oil-and-gas-refining  Deep Conversion   climate-trace     14070   \n",
            "3  oil-and-gas-refining  Deep Conversion   climate-trace     14070   \n",
            "4  oil-and-gas-refining  Deep Conversion   climate-trace     14070   \n",
            "5  oil-and-gas-refining  Deep Conversion   climate-trace     12261   \n",
            "6  oil-and-gas-refining  Deep Conversion   climate-trace     12261   \n",
            "7  oil-and-gas-refining  Deep Conversion   climate-trace     12261   \n",
            "8  oil-and-gas-refining  Deep Conversion   climate-trace     12261   \n",
            "9  oil-and-gas-refining  Deep Conversion   climate-trace     12261   \n",
            "\n",
            "     ActivityUnits  Capacity  CapacityFactor    CapacityUnits  \\\n",
            "0  barrels per day     20100            0.70  barrels per day   \n",
            "1  barrels per day     20100            0.70  barrels per day   \n",
            "2  barrels per day     20100            0.70  barrels per day   \n",
            "3  barrels per day     20100            0.70  barrels per day   \n",
            "4  barrels per day     20100            0.70  barrels per day   \n",
            "5  barrels per day     20100            0.61  barrels per day   \n",
            "6  barrels per day     20100            0.61  barrels per day   \n",
            "7  barrels per day     20100            0.61  barrels per day   \n",
            "8  barrels per day     20100            0.61  barrels per day   \n",
            "9  barrels per day     20100            0.61  barrels per day   \n",
            "\n",
            "   EmissionsFactor         EmissionsFactorUnits       n2o  Year          co2  \\\n",
            "0         0.000348  T of N2O per barrel refined  1.787455  2021  193275.8405   \n",
            "1        40.220489  T of CO2 per barrel refined  1.672547  2021  206554.3334   \n",
            "2         0.001815  T of CH4 per barrel refined  1.672547  2021  193275.8405   \n",
            "3         0.000348                      Unknown  1.672547  2021  193275.8405   \n",
            "4         0.000348                      Unknown  1.672547  2021  193275.8405   \n",
            "5         0.000348  T of N2O per barrel refined  1.557639  2022  193275.8405   \n",
            "6        40.220489  T of CO2 per barrel refined  1.672547  2022  179997.3476   \n",
            "7         0.001815  T of CH4 per barrel refined  1.672547  2022  193275.8405   \n",
            "8         0.000348                      Unknown  1.672547  2022  193275.8405   \n",
            "9         0.000348                      Unknown  1.672547  2022  193275.8405   \n",
            "\n",
            "        ch4    co2e_20yr   co2e_100yr  \n",
            "0  8.720265  195215.1231  195196.6065  \n",
            "1  8.720265  195215.1231  195196.6065  \n",
            "2  9.319367  195215.1231  195196.6065  \n",
            "3  8.720265  208626.8491  195196.6065  \n",
            "4  8.720265  195215.1231  208607.0604  \n",
            "5  8.720265  195215.1231  195196.6065  \n",
            "6  8.720265  195215.1231  195196.6065  \n",
            "7  8.121163  195215.1231  195196.6065  \n",
            "8  8.720265  181803.3971  195196.6065  \n",
            "9  8.720265  195215.1231  181786.1526  \n"
          ]
        }
      ]
    },
    {
      "cell_type": "markdown",
      "source": [
        "This code below employs a more stringent strategy by removing any rows containing missing values from the dataset."
      ],
      "metadata": {
        "id": "PU6pq_xRhrRA"
      }
    },
    {
      "cell_type": "code",
      "source": [
        "def remove_missing_values(df):\n",
        "    return df.dropna()\n",
        "\n",
        "df_emissions_shenyang_cleaned = remove_missing_values(df_emissions_shenyang)\n",
        "df_emissions_tieling_cleaned = remove_missing_values(df_emissions_tieling)\n",
        "\n",
        "print(\"\\nShenyang Data After Removing Missing Values:\\n\", df_emissions_shenyang_cleaned)\n",
        "print(\"\\nTieling Data After Removing Missing Values:\\n\", df_emissions_tieling_cleaned)"
      ],
      "metadata": {
        "colab": {
          "base_uri": "https://localhost:8080/"
        },
        "id": "NM9HPon6hZVb",
        "outputId": "3a8c1ddf-e0cd-42cf-faec-dade560f61db"
      },
      "execution_count": null,
      "outputs": [
        {
          "output_type": "stream",
          "name": "stdout",
          "text": [
            "\n",
            "Shenyang Data After Removing Missing Values:\n",
            "         Id                                     Name NativeId Country  \\\n",
            "0  3144251  Shenyang PARAFFIN-WAX Chemical Refinery      759     CHN   \n",
            "1  3144251  Shenyang PARAFFIN-WAX Chemical Refinery      759     CHN   \n",
            "2  3144251  Shenyang PARAFFIN-WAX Chemical Refinery      759     CHN   \n",
            "3  3144251  Shenyang PARAFFIN-WAX Chemical Refinery      759     CHN   \n",
            "4  3144251  Shenyang PARAFFIN-WAX Chemical Refinery      759     CHN   \n",
            "5  3144251  Shenyang PARAFFIN-WAX Chemical Refinery      759     CHN   \n",
            "6  3144251  Shenyang PARAFFIN-WAX Chemical Refinery      759     CHN   \n",
            "7  3144251  Shenyang PARAFFIN-WAX Chemical Refinery      759     CHN   \n",
            "8  3144251  Shenyang PARAFFIN-WAX Chemical Refinery      759     CHN   \n",
            "9  3144251  Shenyang PARAFFIN-WAX Chemical Refinery      759     CHN   \n",
            "\n",
            "                 Sector          AssetType ReportingEntity  Activity  \\\n",
            "0  oil-and-gas-refining  Medium Conversion   climate-trace   16884.0   \n",
            "1  oil-and-gas-refining  Medium Conversion   climate-trace   16884.0   \n",
            "2  oil-and-gas-refining  Medium Conversion   climate-trace   16884.0   \n",
            "3  oil-and-gas-refining  Medium Conversion   climate-trace   16884.0   \n",
            "4  oil-and-gas-refining  Medium Conversion   climate-trace   16884.0   \n",
            "5  oil-and-gas-refining  Medium Conversion   climate-trace   14713.2   \n",
            "6  oil-and-gas-refining  Medium Conversion   climate-trace   14713.2   \n",
            "7  oil-and-gas-refining  Medium Conversion   climate-trace   14713.2   \n",
            "8  oil-and-gas-refining  Medium Conversion   climate-trace   14713.2   \n",
            "9  oil-and-gas-refining  Medium Conversion   climate-trace   14713.2   \n",
            "\n",
            "     ActivityUnits  Capacity  CapacityFactor    CapacityUnits  \\\n",
            "0  barrels per day     24120            0.70  barrels per day   \n",
            "1  barrels per day     24120            0.70  barrels per day   \n",
            "2  barrels per day     24120            0.70  barrels per day   \n",
            "3  barrels per day     24120            0.70  barrels per day   \n",
            "4  barrels per day     24120            0.70  barrels per day   \n",
            "5  barrels per day     24120            0.61  barrels per day   \n",
            "6  barrels per day     24120            0.61  barrels per day   \n",
            "7  barrels per day     24120            0.61  barrels per day   \n",
            "8  barrels per day     24120            0.61  barrels per day   \n",
            "9  barrels per day     24120            0.61  barrels per day   \n",
            "\n",
            "   EmissionsFactor         EmissionsFactorUnits       n2o  Year           co2  \\\n",
            "0         0.000297  T of N2O per barrel refined  1.831147  2021  176182.72595   \n",
            "1        30.552859  T of CO2 per barrel refined  1.713431  2021  188286.88270   \n",
            "2         0.001518  T of CH4 per barrel refined  1.713431  2021  176182.72595   \n",
            "3         0.000297                      Unknown  1.713431  2021  176182.72595   \n",
            "4         0.000297                      Unknown  1.713431  2021  176182.72595   \n",
            "5         0.000297  T of N2O per barrel refined  1.595714  2022  176182.72595   \n",
            "6        30.552859  T of CO2 per barrel refined  1.713431  2022  164078.56920   \n",
            "7         0.001518  T of CH4 per barrel refined  1.713431  2022  176182.72595   \n",
            "8         0.000297                      Unknown  1.713431  2022  176182.72595   \n",
            "9         0.000297                      Unknown  1.713431  2022  176182.72595   \n",
            "\n",
            "        ch4    co2e_20yr    co2e_100yr  \n",
            "0  8.752312  178128.6129  178126.99355  \n",
            "1  8.752312  178128.6129  178126.99355  \n",
            "2  9.353616  178128.6129  178126.99355  \n",
            "3  8.752312  190366.4565  178126.99355  \n",
            "4  8.752312  178128.6129  190364.72590  \n",
            "5  8.752312  178128.6129  178126.99355  \n",
            "6  8.752312  178128.6129  178126.99355  \n",
            "7  8.151008  178128.6129  178126.99355  \n",
            "8  8.752312  165890.7693  178126.99355  \n",
            "9  8.752312  178128.6129  165889.26120  \n",
            "\n",
            "Tieling Data After Removing Missing Values:\n",
            "         Id                                 Name NativeId Country  \\\n",
            "0  3144252  Zhonghai Bitumen (Yingkou) Refinery      760     CHN   \n",
            "1  3144252  Zhonghai Bitumen (Yingkou) Refinery      760     CHN   \n",
            "2  3144252  Zhonghai Bitumen (Yingkou) Refinery      760     CHN   \n",
            "3  3144252  Zhonghai Bitumen (Yingkou) Refinery      760     CHN   \n",
            "4  3144252  Zhonghai Bitumen (Yingkou) Refinery      760     CHN   \n",
            "5  3144252  Zhonghai Bitumen (Yingkou) Refinery      760     CHN   \n",
            "6  3144252  Zhonghai Bitumen (Yingkou) Refinery      760     CHN   \n",
            "7  3144252  Zhonghai Bitumen (Yingkou) Refinery      760     CHN   \n",
            "8  3144252  Zhonghai Bitumen (Yingkou) Refinery      760     CHN   \n",
            "9  3144252  Zhonghai Bitumen (Yingkou) Refinery      760     CHN   \n",
            "\n",
            "                 Sector        AssetType ReportingEntity  Activity  \\\n",
            "0  oil-and-gas-refining  Deep Conversion   climate-trace     14070   \n",
            "1  oil-and-gas-refining  Deep Conversion   climate-trace     14070   \n",
            "2  oil-and-gas-refining  Deep Conversion   climate-trace     14070   \n",
            "3  oil-and-gas-refining  Deep Conversion   climate-trace     14070   \n",
            "4  oil-and-gas-refining  Deep Conversion   climate-trace     14070   \n",
            "5  oil-and-gas-refining  Deep Conversion   climate-trace     12261   \n",
            "6  oil-and-gas-refining  Deep Conversion   climate-trace     12261   \n",
            "7  oil-and-gas-refining  Deep Conversion   climate-trace     12261   \n",
            "8  oil-and-gas-refining  Deep Conversion   climate-trace     12261   \n",
            "9  oil-and-gas-refining  Deep Conversion   climate-trace     12261   \n",
            "\n",
            "     ActivityUnits  Capacity  CapacityFactor    CapacityUnits  \\\n",
            "0  barrels per day     20100            0.70  barrels per day   \n",
            "1  barrels per day     20100            0.70  barrels per day   \n",
            "2  barrels per day     20100            0.70  barrels per day   \n",
            "3  barrels per day     20100            0.70  barrels per day   \n",
            "4  barrels per day     20100            0.70  barrels per day   \n",
            "5  barrels per day     20100            0.61  barrels per day   \n",
            "6  barrels per day     20100            0.61  barrels per day   \n",
            "7  barrels per day     20100            0.61  barrels per day   \n",
            "8  barrels per day     20100            0.61  barrels per day   \n",
            "9  barrels per day     20100            0.61  barrels per day   \n",
            "\n",
            "   EmissionsFactor         EmissionsFactorUnits       n2o  Year          co2  \\\n",
            "0         0.000348  T of N2O per barrel refined  1.787455  2021  193275.8405   \n",
            "1        40.220489  T of CO2 per barrel refined  1.672547  2021  206554.3334   \n",
            "2         0.001815  T of CH4 per barrel refined  1.672547  2021  193275.8405   \n",
            "3         0.000348                      Unknown  1.672547  2021  193275.8405   \n",
            "4         0.000348                      Unknown  1.672547  2021  193275.8405   \n",
            "5         0.000348  T of N2O per barrel refined  1.557639  2022  193275.8405   \n",
            "6        40.220489  T of CO2 per barrel refined  1.672547  2022  179997.3476   \n",
            "7         0.001815  T of CH4 per barrel refined  1.672547  2022  193275.8405   \n",
            "8         0.000348                      Unknown  1.672547  2022  193275.8405   \n",
            "9         0.000348                      Unknown  1.672547  2022  193275.8405   \n",
            "\n",
            "        ch4    co2e_20yr   co2e_100yr  \n",
            "0  8.720265  195215.1231  195196.6065  \n",
            "1  8.720265  195215.1231  195196.6065  \n",
            "2  9.319367  195215.1231  195196.6065  \n",
            "3  8.720265  208626.8491  195196.6065  \n",
            "4  8.720265  195215.1231  208607.0604  \n",
            "5  8.720265  195215.1231  195196.6065  \n",
            "6  8.720265  195215.1231  195196.6065  \n",
            "7  8.121163  195215.1231  195196.6065  \n",
            "8  8.720265  181803.3971  195196.6065  \n",
            "9  8.720265  195215.1231  181786.1526  \n"
          ]
        }
      ]
    },
    {
      "cell_type": "markdown",
      "source": [
        "### **Question 5**\n",
        "Can we use OpenAI's GPT-3.5-turbo model to interactively assist with our data analysis tasks? Yes! Let me introduce!"
      ],
      "metadata": {
        "id": "eN7kPjw_qWMl"
      }
    },
    {
      "cell_type": "code",
      "source": [
        "from google.colab import userdata\n",
        "from openai import OpenAI\n",
        "\n",
        "OPENAI_API_KEY = userdata.get(\"OpenAI_api\")\n",
        "client = OpenAI(api_key=OPENAI_API_KEY)\n",
        "\n",
        "response = client.chat.completions.create(\n",
        "    model=\"gpt-3.5-turbo\",\n",
        "    messages=[\n",
        "        {\"role\": \"system\", \"content\": \"You are a helpful assistant.\"},\n",
        "        {\"role\": \"user\", \"content\": \"Hello, how can I assist you today?\"}\n",
        "    ],\n",
        "    max_tokens=50\n",
        ")\n",
        "\n",
        "print(response.choices[0].message.content)\n"
      ],
      "metadata": {
        "colab": {
          "base_uri": "https://localhost:8080/"
        },
        "id": "Y3D2JV1ppB6s",
        "outputId": "03d2e73c-6af1-4dbc-934c-97786e398e88"
      },
      "execution_count": null,
      "outputs": [
        {
          "output_type": "stream",
          "name": "stdout",
          "text": [
            "Hello! I'm here to help. What do you need assistance with today?\n"
          ]
        }
      ]
    },
    {
      "cell_type": "markdown",
      "source": [
        "Let's see ownership information for multiple oil and gas refineries using OpenAI's GPT-3.5-turbo model"
      ],
      "metadata": {
        "id": "r5bcE0SfzzSF"
      }
    },
    {
      "cell_type": "code",
      "source": [
        "facilities = [\"Shenyang PARAFFIN-WAX Chemical Refinery\", \"Tieling Refinery\"]\n",
        "country = \"China\"\n",
        "model = \"gpt-3.5-turbo\"\n",
        "\n",
        "system_message = \"You are a data analyst that reports the bare minimum of information to the user on the ownership of the supplied oil and gas refineries.\"\n",
        "\n",
        "for facility in facilities:\n",
        "    user_message = f\"Find the information on ownership and shares of ownership for the {facility} refinery in {country}.\"\n",
        "\n",
        "    response = client.chat.completions.create(\n",
        "        model=model,\n",
        "        messages=[\n",
        "            {\"role\": \"system\", \"content\": system_message},\n",
        "            {\"role\": \"user\", \"content\": user_message}\n",
        "        ]\n",
        "    )\n",
        "\n",
        "    print(f\"Ownership information for {facility}:\\n{response.choices[0].message.content}\\n\")"
      ],
      "metadata": {
        "id": "fpAD7gTQqX1E",
        "colab": {
          "base_uri": "https://localhost:8080/"
        },
        "outputId": "0572f2d1-3af5-45bd-badd-b47332111926"
      },
      "execution_count": null,
      "outputs": [
        {
          "output_type": "stream",
          "name": "stdout",
          "text": [
            "Ownership information for Shenyang PARAFFIN-WAX Chemical Refinery:\n",
            "The ownership information for the Shenyang PARAFFIN-WAX Chemical Refinery in China is not publicly available.\n",
            "\n",
            "Ownership information for Tieling Refinery:\n",
            "The Tieling Refinery in China is owned by China Petroleum & Chemical Corporation (Sinopec) and is fully owned by the company.\n",
            "\n"
          ]
        }
      ]
    },
    {
      "cell_type": "markdown",
      "source": [
        "What are the possible reasons for the reduction of CO2 in the Shenyang and Tieling refineries?"
      ],
      "metadata": {
        "id": "mmf05ESujDYX"
      }
    },
    {
      "cell_type": "code",
      "source": [
        "import openai\n",
        "\n",
        "system_message = \"You are an environmental analyst tasked with summarizing the environmental impact and compliance measures of oil and gas refineries.\"\n",
        "\n",
        "user_message = \"What are the possible reasons for the reduction of CO2 in the Shenyang and Tieling refineries? What are some possible environmental impact?\"\n",
        "\n",
        "response = client.chat.completions.create(\n",
        "    model=\"gpt-4\",\n",
        "    messages=[\n",
        "        {\"role\": \"system\", \"content\": system_message},\n",
        "        {\"role\": \"user\", \"content\": user_message}\n",
        "    ]\n",
        ")\n",
        "\n",
        "response_text = response.choices[0].message.content\n",
        "response_list = [sentence.strip() for sentence in response_text.split('. ') if sentence]\n",
        "\n",
        "print(\"Response:\", response_text)\n",
        "print(\"Converted List:\", response_list)"
      ],
      "metadata": {
        "colab": {
          "base_uri": "https://localhost:8080/"
        },
        "id": "0GaCVIOlMma3",
        "outputId": "73ff5934-431c-4750-af9f-d8c8f1b77dd0"
      },
      "execution_count": null,
      "outputs": [
        {
          "output_type": "stream",
          "name": "stdout",
          "text": [
            "Response: Oil and gas refineries can reduce CO2 emissions through a variety of methods, including energy efficiency improvements, process optimization, CCS (Carbon Capture and Storage) implementation, fuel switching, and the use of renewable or low carbon intensity fuels. The reduction of CO2 emissions in the Shenyang and Tieling refineries could be a result of such actions.\n",
            "\n",
            "Environmental Impact:\n",
            "1. Air Pollution: Despite the reduction of CO2, refineries still emit various air pollutants like sulfur dioxide (SO2), nitrogen oxides (NOx), and particulate matter, which contribute to smog and acid rain, and can cause respiratory problems in humans and animals. \n",
            "   \n",
            "2. Water Pollution: Effluents discharged from refineries can contaminate water sources, affecting not only aquatic ecosystems but also impacting local communities that rely on those water sources. These effluents can contain oil and other pollutants like lead, mercury, and arsenic.\n",
            "\n",
            "3. Soil and Groundwater Contamination: Spills and leaks from refineries can lead to soil and groundwater contamination, posing risks to nearby agricultural lands and even leading to potential health risks for local communities.\n",
            "\n",
            "4. Habitat Destruction: Building new refineries often requires clearing of land, which can lead to habitat destruction and loss of biodiversity. Additionally, oil or chemical spills, can devastate local ecosystems for years.\n",
            "   \n",
            "Compliance Measures:\n",
            "1. Use of Best Available Techniques and Best Environmental Practices: These include techniques that prevent or minimize emissions and the impact on the environment.\n",
            "   \n",
            "2. Regular Maintenance and Monitoring: Regular checks on equipment to prevent spills and leaks, and frequent monitoring of emissions to ensure adherence to standards.\n",
            "   \n",
            "3. Implementation of Environmental Management Systems: This involves the development of guidelines and procedures aimed at reducing a refinery's environmental impact.\n",
            "   \n",
            "4. Transparency and Reporting: Regular public reporting on emission levels, spill incidents, and other environmental impacts, as well as actions taken to mitigate them can help in keeping refineries accountable.\n",
            "   \n",
            "5. Training Employees: Training employees on environmental procedures and safety can help reduce risks and ensure better compliance.\n",
            "Converted List: ['Oil and gas refineries can reduce CO2 emissions through a variety of methods, including energy efficiency improvements, process optimization, CCS (Carbon Capture and Storage) implementation, fuel switching, and the use of renewable or low carbon intensity fuels', 'The reduction of CO2 emissions in the Shenyang and Tieling refineries could be a result of such actions.\\n\\nEnvironmental Impact:\\n1', 'Air Pollution: Despite the reduction of CO2, refineries still emit various air pollutants like sulfur dioxide (SO2), nitrogen oxides (NOx), and particulate matter, which contribute to smog and acid rain, and can cause respiratory problems in humans and animals', '2', 'Water Pollution: Effluents discharged from refineries can contaminate water sources, affecting not only aquatic ecosystems but also impacting local communities that rely on those water sources', 'These effluents can contain oil and other pollutants like lead, mercury, and arsenic.\\n\\n3', 'Soil and Groundwater Contamination: Spills and leaks from refineries can lead to soil and groundwater contamination, posing risks to nearby agricultural lands and even leading to potential health risks for local communities.\\n\\n4', 'Habitat Destruction: Building new refineries often requires clearing of land, which can lead to habitat destruction and loss of biodiversity', 'Additionally, oil or chemical spills, can devastate local ecosystems for years.\\n   \\nCompliance Measures:\\n1', 'Use of Best Available Techniques and Best Environmental Practices: These include techniques that prevent or minimize emissions and the impact on the environment.\\n   \\n2', 'Regular Maintenance and Monitoring: Regular checks on equipment to prevent spills and leaks, and frequent monitoring of emissions to ensure adherence to standards.\\n   \\n3', \"Implementation of Environmental Management Systems: This involves the development of guidelines and procedures aimed at reducing a refinery's environmental impact.\\n   \\n4\", 'Transparency and Reporting: Regular public reporting on emission levels, spill incidents, and other environmental impacts, as well as actions taken to mitigate them can help in keeping refineries accountable.\\n   \\n5', 'Training Employees: Training employees on environmental procedures and safety can help reduce risks and ensure better compliance.']\n"
          ]
        }
      ]
    },
    {
      "cell_type": "markdown",
      "source": [
        "### **Question 6**\n",
        "How do the total CO2 emissions and emissions per barrel compare between the Shenyang PARAFFIN-WAX Chemical Refinery and the Tieling Refinery over the past several years, and what insights can be drawn from these comparisons?\n",
        "\n",
        "\n",
        "\n",
        "\n",
        "\n",
        "\n"
      ],
      "metadata": {
        "id": "QK-D-NWMqYaa"
      }
    },
    {
      "cell_type": "code",
      "source": [
        "import pandas as pd\n",
        "\n",
        "df_emissions_shenyang['emissions_per_barrel'] = df_emissions_shenyang['co2'] / df_emissions_shenyang['Activity']\n",
        "df_emissions_tieling['emissions_per_barrel'] = df_emissions_tieling['co2'] / df_emissions_tieling['Activity']\n",
        "\n",
        "print(\"Shenyang Emissions per Barrel:\")\n",
        "print(df_emissions_shenyang[['Year', 'emissions_per_barrel']])\n",
        "\n",
        "print(\"\\nTieling Emissions per Barrel:\")\n",
        "print(df_emissions_tieling[['Year', 'emissions_per_barrel']])"
      ],
      "metadata": {
        "id": "-lBo6qCxqaJ0",
        "colab": {
          "base_uri": "https://localhost:8080/"
        },
        "outputId": "0cac96c2-5022-4e28-a187-8667692a2493"
      },
      "execution_count": null,
      "outputs": [
        {
          "output_type": "stream",
          "name": "stdout",
          "text": [
            "Shenyang Emissions per Barrel:\n",
            "   Year  emissions_per_barrel\n",
            "0  2021             10.434893\n",
            "1  2021             11.151794\n",
            "2  2021             10.434893\n",
            "3  2021             10.434893\n",
            "4  2021             10.434893\n",
            "5  2022             11.974467\n",
            "6  2022             11.151794\n",
            "7  2022             11.974467\n",
            "8  2022             11.974467\n",
            "9  2022             11.974467\n",
            "\n",
            "Tieling Emissions per Barrel:\n",
            "   Year  emissions_per_barrel\n",
            "0  2021             13.736734\n",
            "1  2021             14.680479\n",
            "2  2021             13.736734\n",
            "3  2021             13.736734\n",
            "4  2021             13.736734\n",
            "5  2022             15.763465\n",
            "6  2022             14.680479\n",
            "7  2022             15.763465\n",
            "8  2022             15.763465\n",
            "9  2022             15.763465\n"
          ]
        }
      ]
    },
    {
      "cell_type": "code",
      "source": [
        "average_emissions_shenyang = df_emissions_shenyang['emissions_per_barrel'].mean()\n",
        "average_emissions_tieling = df_emissions_tieling['emissions_per_barrel'].mean()\n",
        "\n",
        "print(f\"Average Emissions per Barrel in Shenyang: {average_emissions_shenyang}\")\n",
        "print(f\"Average Emissions per Barrel in Tieling: {average_emissions_tieling}\")"
      ],
      "metadata": {
        "colab": {
          "base_uri": "https://localhost:8080/"
        },
        "id": "Vqnl_Oe8NXYl",
        "outputId": "221ab671-6951-413e-8d57-8e1f569d37de"
      },
      "execution_count": null,
      "outputs": [
        {
          "output_type": "stream",
          "name": "stdout",
          "text": [
            "Average Emissions per Barrel in Shenyang: 11.194102485863034\n",
            "Average Emissions per Barrel in Tieling: 14.73617499055076\n"
          ]
        }
      ]
    },
    {
      "cell_type": "code",
      "source": [
        "import matplotlib.pyplot as plt\n",
        "\n",
        "total_emissions_shenyang = df_emissions_shenyang.groupby('Year')['co2'].sum()\n",
        "total_emissions_tieling = df_emissions_tieling.groupby('Year')['co2'].sum()\n",
        "\n",
        "total_emissions_per_barrel_shenyang = df_emissions_shenyang.groupby('Year')['emissions_per_barrel'].sum()\n",
        "total_emissions_per_barrel_tieling = df_emissions_tieling.groupby('Year')['emissions_per_barrel'].sum()\n",
        "\n",
        "years = total_emissions_shenyang.index\n",
        "\n",
        "plt.figure(figsize=(8, 8))\n",
        "\n",
        "bar_width = 0.35\n",
        "color_shenyang = '#FFDD99'\n",
        "color_tieling = '#ADD8E6'\n",
        "\n",
        "plt.subplot(2, 1, 1)\n",
        "plt.barh(years, total_emissions_tieling, label='Tieling - Total Emissions', color=color_tieling, height=bar_width)\n",
        "plt.barh(years, total_emissions_shenyang, label='Shenyang - Total Emissions', color=color_shenyang, height=bar_width)\n",
        "plt.title('Total Emissions: Shenyang vs. Tieling')\n",
        "plt.xlabel('Total Emissions (CO2)')\n",
        "plt.ylabel('Year')\n",
        "plt.legend()\n",
        "\n",
        "plt.subplot(2, 1, 2)\n",
        "plt.barh(years, total_emissions_per_barrel_tieling, label='Tieling - Emissions per Barrel', color=color_tieling, height=bar_width)\n",
        "plt.barh(years, total_emissions_per_barrel_shenyang, label='Shenyang - Emissions per Barrel', color=color_shenyang, height=bar_width)\n",
        "plt.title('Total Emissions per Barrel: Shenyang vs. Tieling')\n",
        "plt.xlabel('Total Emissions per Barrel')\n",
        "plt.ylabel('Year')\n",
        "plt.legend()\n",
        "\n",
        "plt.tight_layout()\n",
        "plt.show()"
      ],
      "metadata": {
        "colab": {
          "base_uri": "https://localhost:8080/",
          "height": 807
        },
        "id": "fSaYDrz-Ro5K",
        "outputId": "bb5bd506-4ba8-4fee-b0cf-866490fe30e7"
      },
      "execution_count": null,
      "outputs": [
        {
          "output_type": "display_data",
          "data": {
            "text/plain": [
              "<Figure size 800x800 with 2 Axes>"
            ],
            "image/png": "[encoded data removed]"
          },
          "metadata": {}
        }
      ]
    },
    {
      "cell_type": "markdown",
      "source": [
        "Analysis of the graph:\n",
        "\n",
        "From the chart, it is evident that Tieling's total emissions significantly exceed those of Shenyang in both years. The difference in emissions highlights a disparity in the volume of CO2 output between the two refineries. Similar to the total emissions, Tieling's emissions per barrel are higher than those of Shenyang, indicating that, on a per-barrel basis, Tieling's operations result in more CO2 emissions than Shenyang's.\n",
        "\n",
        "From an environmental perspective, Tieling's higher emissions—both total and per barrel—mean that its refinery has a greater impact on the local and global environment. This could contribute to more significant local air quality issues and a larger carbon footprint, which may warrant targeted interventions to reduce emissions."
      ],
      "metadata": {
        "id": "_nUL2JgYkdPK"
      }
    },
    {
      "cell_type": "markdown",
      "source": [
        "## **Summary:**\n",
        "\n",
        "In conclusion, this project successfully analyzed and compared the environmental impact of oil and gas refineries in Shenyang and Tieling, two significant cities in Liaoning Province, China. Through the extraction, cleaning, and analysis of emissions data, key differences in CO2 emissions and emissions per barrel between the Shenyang PARAFFIN-WAX Chemical Refinery and the Tieling Refinery were identified.\n",
        "\n",
        "The findings reveal that, despite their geographical proximity, the two cities exhibit distinct trends in emissions, reflecting differences in refinery operations and environmental performance. The visualizations provided a clear comparative perspective, highlighting the variations in total emissions and emissions efficiency between the two refineries.\n",
        "\n",
        "This analysis not only sheds light on the environmental impacts of these industrial facilities but also offers valuable insights into the broader implications of refinery operations in urban areas. The project underscores the importance of continuous monitoring and improvement of industrial processes to minimize greenhouse gas emissions and enhance environmental sustainability in both cities."
      ],
      "metadata": {
        "id": "S6eULa_Ykrir"
      }
    }
  ]
}
